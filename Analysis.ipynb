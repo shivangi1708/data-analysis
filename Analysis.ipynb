{
 "cells": [
  {
   "cell_type": "markdown",
   "metadata": {},
   "source": [
    "## 📊 Explanation of the Analysis\n",
    "\n",
    "### 1. Data Loading and Cleaning\n",
    "We began by importing and inspecting five datasets: `products.csv`, `reviews.csv`, `users.csv`, `jcpenney_products.json`, and `jcpenney_reviewers.json`. After loading them into pandas DataFrames, we performed the following cleaning steps:\n",
    "- Handled missing or null values appropriately.\n",
    "- Converted date columns into datetime format.\n",
    "- Checked and removed any duplicate entries.\n",
    "- Ensured consistent column formatting across all datasets.\n",
    "\n",
    "### 2. Data Exploration\n",
    "We explored various attributes of the data including:\n",
    "- Product categories and their distribution.\n",
    "- Price ranges across products.\n",
    "- Review statistics such as rating distribution, review lengths, and frequency.\n",
    "- Customer activity and repeat reviews.\n",
    "\n",
    "### 3. Visualizations\n",
    "To derive insights, we used several visual tools including `seaborn`, `matplotlib`, and `plotly`:\n",
    "- Bar charts to show the most reviewed products.\n",
    "- Histograms and KDE plots for price and rating distributions.\n",
    "- Scatter plots for detecting patterns between price, rating, and number of reviews.\n",
    "- Word clouds or text analysis (if applicable) for review text.\n",
    "\n",
    "### 4. Insights Gained\n",
    "- Some product categories consistently receive higher ratings than others.\n",
    "- Many customers leave only one review, but a few are highly engaged.\n",
    "- There’s a tendency for lower-priced products to receive more reviews, possibly due to affordability and popularity.\n",
    "- The length and content of reviews may correlate with their sentiment.\n",
    "\n",
    "---\n",
    "\n",
    "## ✅ Conclusion\n",
    "\n",
    "This analysis provided actionable insights into JC Penney’s product performance and customer feedback patterns. The main takeaways include:\n",
    "\n",
    "- **Top-performing categories** can be promoted more prominently on sales platforms.\n",
    "- **Low-rated products** need further investigation for potential improvements.\n",
    "- **Highly engaged customers** might be valuable for loyalty programs or targeted marketing.\n",
    "- **Review analysis** shows a generally positive customer sentiment, which supports the brand's reputation.\n",
    "\n",
    "### Recommendations:\n",
    "- Prioritize the marketing of frequently reviewed and highly rated products.\n",
    "- Investigate consistently low-rated items for design or quality issues.\n",
    "- Encourage customer reviews with incentives to improve data richness.\n",
    "- Consider category-specific strategies based on performance trends revealed in the analysis.\n",
    "\n"
   ]
  },
  {
   "cell_type": "code",
   "execution_count": 2,
   "metadata": {},
   "outputs": [],
   "source": [
    "# import all the necessary libraries\n",
    "import pandas as pd\n",
    "import numpy as np\n",
    "import requests\n",
    "from PIL import Image\n",
    "import matplotlib.pyplot as plt\n",
    "from datetime import datetime, date \n",
    "import seaborn as sns\n",
    "import plotly.express as px"
   ]
  },
  {
   "cell_type": "markdown",
   "metadata": {},
   "source": [
    "# DATA EXPLORATION AND VALIDATION"
   ]
  },
  {
   "cell_type": "markdown",
   "metadata": {},
   "source": [
    "## Reading CSV Files"
   ]
  },
  {
   "cell_type": "markdown",
   "metadata": {},
   "source": [
    "### File 1 : products.csv "
   ]
  },
  {
   "cell_type": "code",
   "execution_count": 6,
   "metadata": {},
   "outputs": [],
   "source": [
    "# reads the data from csv  file named 'products.csv' into a Pandas DataFrame called as products_csv\n",
    "products_csv = pd.read_csv('products.csv')"
   ]
  },
  {
   "cell_type": "code",
   "execution_count": 7,
   "metadata": {},
   "outputs": [
    {
     "data": {
      "text/html": [
       "<div>\n",
       "<style scoped>\n",
       "    .dataframe tbody tr th:only-of-type {\n",
       "        vertical-align: middle;\n",
       "    }\n",
       "\n",
       "    .dataframe tbody tr th {\n",
       "        vertical-align: top;\n",
       "    }\n",
       "\n",
       "    .dataframe thead th {\n",
       "        text-align: right;\n",
       "    }\n",
       "</style>\n",
       "<table border=\"1\" class=\"dataframe\">\n",
       "  <thead>\n",
       "    <tr style=\"text-align: right;\">\n",
       "      <th></th>\n",
       "      <th>Uniq_id</th>\n",
       "      <th>SKU</th>\n",
       "      <th>Name</th>\n",
       "      <th>Description</th>\n",
       "      <th>Price</th>\n",
       "      <th>Av_Score</th>\n",
       "    </tr>\n",
       "  </thead>\n",
       "  <tbody>\n",
       "    <tr>\n",
       "      <th>0</th>\n",
       "      <td>b6c0b6bea69c722939585baeac73c13d</td>\n",
       "      <td>pp5006380337</td>\n",
       "      <td>Alfred Dunner® Essential Pull On Capri Pant</td>\n",
       "      <td>Youll return to our Alfred Dunner pull-on capr...</td>\n",
       "      <td>41.09</td>\n",
       "      <td>2.625</td>\n",
       "    </tr>\n",
       "    <tr>\n",
       "      <th>1</th>\n",
       "      <td>93e5272c51d8cce02597e3ce67b7ad0a</td>\n",
       "      <td>pp5006380337</td>\n",
       "      <td>Alfred Dunner® Essential Pull On Capri Pant</td>\n",
       "      <td>Youll return to our Alfred Dunner pull-on capr...</td>\n",
       "      <td>41.09</td>\n",
       "      <td>3.000</td>\n",
       "    </tr>\n",
       "    <tr>\n",
       "      <th>2</th>\n",
       "      <td>013e320f2f2ec0cf5b3ff5418d688528</td>\n",
       "      <td>pp5006380337</td>\n",
       "      <td>Alfred Dunner® Essential Pull On Capri Pant</td>\n",
       "      <td>Youll return to our Alfred Dunner pull-on capr...</td>\n",
       "      <td>41.09</td>\n",
       "      <td>2.625</td>\n",
       "    </tr>\n",
       "    <tr>\n",
       "      <th>3</th>\n",
       "      <td>505e6633d81f2cb7400c0cfa0394c427</td>\n",
       "      <td>pp5006380337</td>\n",
       "      <td>Alfred Dunner® Essential Pull On Capri Pant</td>\n",
       "      <td>Youll return to our Alfred Dunner pull-on capr...</td>\n",
       "      <td>41.09</td>\n",
       "      <td>3.500</td>\n",
       "    </tr>\n",
       "    <tr>\n",
       "      <th>4</th>\n",
       "      <td>d969a8542122e1331e304b09f81a83f6</td>\n",
       "      <td>pp5006380337</td>\n",
       "      <td>Alfred Dunner® Essential Pull On Capri Pant</td>\n",
       "      <td>Youll return to our Alfred Dunner pull-on capr...</td>\n",
       "      <td>41.09</td>\n",
       "      <td>3.125</td>\n",
       "    </tr>\n",
       "  </tbody>\n",
       "</table>\n",
       "</div>"
      ],
      "text/plain": [
       "                            Uniq_id           SKU  \\\n",
       "0  b6c0b6bea69c722939585baeac73c13d  pp5006380337   \n",
       "1  93e5272c51d8cce02597e3ce67b7ad0a  pp5006380337   \n",
       "2  013e320f2f2ec0cf5b3ff5418d688528  pp5006380337   \n",
       "3  505e6633d81f2cb7400c0cfa0394c427  pp5006380337   \n",
       "4  d969a8542122e1331e304b09f81a83f6  pp5006380337   \n",
       "\n",
       "                                          Name  \\\n",
       "0  Alfred Dunner® Essential Pull On Capri Pant   \n",
       "1  Alfred Dunner® Essential Pull On Capri Pant   \n",
       "2  Alfred Dunner® Essential Pull On Capri Pant   \n",
       "3  Alfred Dunner® Essential Pull On Capri Pant   \n",
       "4  Alfred Dunner® Essential Pull On Capri Pant   \n",
       "\n",
       "                                         Description  Price  Av_Score  \n",
       "0  Youll return to our Alfred Dunner pull-on capr...  41.09     2.625  \n",
       "1  Youll return to our Alfred Dunner pull-on capr...  41.09     3.000  \n",
       "2  Youll return to our Alfred Dunner pull-on capr...  41.09     2.625  \n",
       "3  Youll return to our Alfred Dunner pull-on capr...  41.09     3.500  \n",
       "4  Youll return to our Alfred Dunner pull-on capr...  41.09     3.125  "
      ]
     },
     "metadata": {},
     "output_type": "display_data"
    }
   ],
   "source": [
    "# it will display few lines from products csv file \n",
    "display(products_csv.head())"
   ]
  },
  {
   "cell_type": "code",
   "execution_count": 8,
   "metadata": {},
   "outputs": [
    {
     "name": "stdout",
     "output_type": "stream",
     "text": [
      "<class 'pandas.core.frame.DataFrame'>\n",
      "RangeIndex: 7982 entries, 0 to 7981\n",
      "Data columns (total 6 columns):\n",
      " #   Column       Non-Null Count  Dtype  \n",
      "---  ------       --------------  -----  \n",
      " 0   Uniq_id      7982 non-null   object \n",
      " 1   SKU          7915 non-null   object \n",
      " 2   Name         7982 non-null   object \n",
      " 3   Description  7439 non-null   object \n",
      " 4   Price        5816 non-null   float64\n",
      " 5   Av_Score     7982 non-null   float64\n",
      "dtypes: float64(2), object(4)\n",
      "memory usage: 374.3+ KB\n"
     ]
    },
    {
     "data": {
      "text/plain": [
       "None"
      ]
     },
     "metadata": {},
     "output_type": "display_data"
    }
   ],
   "source": [
    "# it displays concise information about the structure of products_csv, such as the data type, non-null count\n",
    "display(products_csv.info())"
   ]
  },
  {
   "cell_type": "markdown",
   "metadata": {},
   "source": [
    "Remove negative and null values for price, so we will drop the rows with those values"
   ]
  },
  {
   "cell_type": "code",
   "execution_count": 10,
   "metadata": {},
   "outputs": [],
   "source": [
    "# remove rows from the DataFrame products_csv where the 'Price' column contains missing values and\n",
    "# also where the 'Price' values are less than 0\n",
    "products_csv.drop(products_csv[products_csv['Price'].isna()].index, inplace = True)\n",
    "products_csv.drop(products_csv[products_csv['Price']<0.00].index, inplace = True)"
   ]
  },
  {
   "cell_type": "code",
   "execution_count": 11,
   "metadata": {},
   "outputs": [
    {
     "data": {
      "text/html": [
       "<div>\n",
       "<style scoped>\n",
       "    .dataframe tbody tr th:only-of-type {\n",
       "        vertical-align: middle;\n",
       "    }\n",
       "\n",
       "    .dataframe tbody tr th {\n",
       "        vertical-align: top;\n",
       "    }\n",
       "\n",
       "    .dataframe thead th {\n",
       "        text-align: right;\n",
       "    }\n",
       "</style>\n",
       "<table border=\"1\" class=\"dataframe\">\n",
       "  <thead>\n",
       "    <tr style=\"text-align: right;\">\n",
       "      <th></th>\n",
       "      <th>Price</th>\n",
       "      <th>Av_Score</th>\n",
       "    </tr>\n",
       "  </thead>\n",
       "  <tbody>\n",
       "    <tr>\n",
       "      <th>count</th>\n",
       "      <td>5772.000000</td>\n",
       "      <td>5772.000000</td>\n",
       "    </tr>\n",
       "    <tr>\n",
       "      <th>mean</th>\n",
       "      <td>146.206689</td>\n",
       "      <td>2.992021</td>\n",
       "    </tr>\n",
       "    <tr>\n",
       "      <th>std</th>\n",
       "      <td>500.852105</td>\n",
       "      <td>0.936749</td>\n",
       "    </tr>\n",
       "    <tr>\n",
       "      <th>min</th>\n",
       "      <td>8.010000</td>\n",
       "      <td>1.000000</td>\n",
       "    </tr>\n",
       "    <tr>\n",
       "      <th>25%</th>\n",
       "      <td>41.090000</td>\n",
       "      <td>2.500000</td>\n",
       "    </tr>\n",
       "    <tr>\n",
       "      <th>50%</th>\n",
       "      <td>58.010000</td>\n",
       "      <td>3.000000</td>\n",
       "    </tr>\n",
       "    <tr>\n",
       "      <th>75%</th>\n",
       "      <td>87.020000</td>\n",
       "      <td>3.500000</td>\n",
       "    </tr>\n",
       "    <tr>\n",
       "      <th>max</th>\n",
       "      <td>17122.170000</td>\n",
       "      <td>5.000000</td>\n",
       "    </tr>\n",
       "  </tbody>\n",
       "</table>\n",
       "</div>"
      ],
      "text/plain": [
       "              Price     Av_Score\n",
       "count   5772.000000  5772.000000\n",
       "mean     146.206689     2.992021\n",
       "std      500.852105     0.936749\n",
       "min        8.010000     1.000000\n",
       "25%       41.090000     2.500000\n",
       "50%       58.010000     3.000000\n",
       "75%       87.020000     3.500000\n",
       "max    17122.170000     5.000000"
      ]
     },
     "metadata": {},
     "output_type": "display_data"
    }
   ],
   "source": [
    "# it will display count, mean, standard deviation, minimum, and percentiles\n",
    "\n",
    "display(products_csv.describe())\n"
   ]
  },
  {
   "cell_type": "markdown",
   "metadata": {},
   "source": [
    "### File 2: reviews.csv"
   ]
  },
  {
   "cell_type": "code",
   "execution_count": 13,
   "metadata": {},
   "outputs": [],
   "source": [
    "# reads the data from a'reviews.csv' file  into a Pandas DataFrame called reviews_csv\n",
    "\n",
    "reviews_csv = pd.read_csv('reviews.csv')"
   ]
  },
  {
   "cell_type": "code",
   "execution_count": 14,
   "metadata": {},
   "outputs": [
    {
     "data": {
      "text/html": [
       "<div>\n",
       "<style scoped>\n",
       "    .dataframe tbody tr th:only-of-type {\n",
       "        vertical-align: middle;\n",
       "    }\n",
       "\n",
       "    .dataframe tbody tr th {\n",
       "        vertical-align: top;\n",
       "    }\n",
       "\n",
       "    .dataframe thead th {\n",
       "        text-align: right;\n",
       "    }\n",
       "</style>\n",
       "<table border=\"1\" class=\"dataframe\">\n",
       "  <thead>\n",
       "    <tr style=\"text-align: right;\">\n",
       "      <th></th>\n",
       "      <th>Uniq_id</th>\n",
       "      <th>Username</th>\n",
       "      <th>Score</th>\n",
       "      <th>Review</th>\n",
       "    </tr>\n",
       "  </thead>\n",
       "  <tbody>\n",
       "    <tr>\n",
       "      <th>0</th>\n",
       "      <td>b6c0b6bea69c722939585baeac73c13d</td>\n",
       "      <td>fsdv4141</td>\n",
       "      <td>2</td>\n",
       "      <td>You never have to worry about the fit...Alfred...</td>\n",
       "    </tr>\n",
       "    <tr>\n",
       "      <th>1</th>\n",
       "      <td>b6c0b6bea69c722939585baeac73c13d</td>\n",
       "      <td>krpz1113</td>\n",
       "      <td>1</td>\n",
       "      <td>Good quality fabric. Perfect fit. Washed very ...</td>\n",
       "    </tr>\n",
       "    <tr>\n",
       "      <th>2</th>\n",
       "      <td>b6c0b6bea69c722939585baeac73c13d</td>\n",
       "      <td>mbmg3241</td>\n",
       "      <td>2</td>\n",
       "      <td>I do not normally wear pants or capris that ha...</td>\n",
       "    </tr>\n",
       "    <tr>\n",
       "      <th>3</th>\n",
       "      <td>b6c0b6bea69c722939585baeac73c13d</td>\n",
       "      <td>zeqg1222</td>\n",
       "      <td>0</td>\n",
       "      <td>I love these capris! They fit true to size and...</td>\n",
       "    </tr>\n",
       "    <tr>\n",
       "      <th>4</th>\n",
       "      <td>b6c0b6bea69c722939585baeac73c13d</td>\n",
       "      <td>nvfn3212</td>\n",
       "      <td>3</td>\n",
       "      <td>This product is very comfortable and the fabri...</td>\n",
       "    </tr>\n",
       "  </tbody>\n",
       "</table>\n",
       "</div>"
      ],
      "text/plain": [
       "                            Uniq_id  Username  Score  \\\n",
       "0  b6c0b6bea69c722939585baeac73c13d  fsdv4141      2   \n",
       "1  b6c0b6bea69c722939585baeac73c13d  krpz1113      1   \n",
       "2  b6c0b6bea69c722939585baeac73c13d  mbmg3241      2   \n",
       "3  b6c0b6bea69c722939585baeac73c13d  zeqg1222      0   \n",
       "4  b6c0b6bea69c722939585baeac73c13d  nvfn3212      3   \n",
       "\n",
       "                                              Review  \n",
       "0  You never have to worry about the fit...Alfred...  \n",
       "1  Good quality fabric. Perfect fit. Washed very ...  \n",
       "2  I do not normally wear pants or capris that ha...  \n",
       "3  I love these capris! They fit true to size and...  \n",
       "4  This product is very comfortable and the fabri...  "
      ]
     },
     "metadata": {},
     "output_type": "display_data"
    }
   ],
   "source": [
    "# to display the first five rows of the reviews_csv file \n",
    "\n",
    "display(reviews_csv.head())"
   ]
  },
  {
   "cell_type": "code",
   "execution_count": 15,
   "metadata": {},
   "outputs": [
    {
     "name": "stdout",
     "output_type": "stream",
     "text": [
      "<class 'pandas.core.frame.DataFrame'>\n",
      "RangeIndex: 39063 entries, 0 to 39062\n",
      "Data columns (total 4 columns):\n",
      " #   Column    Non-Null Count  Dtype \n",
      "---  ------    --------------  ----- \n",
      " 0   Uniq_id   39063 non-null  object\n",
      " 1   Username  39063 non-null  object\n",
      " 2   Score     39063 non-null  int64 \n",
      " 3   Review    39063 non-null  object\n",
      "dtypes: int64(1), object(3)\n",
      "memory usage: 1.2+ MB\n"
     ]
    },
    {
     "data": {
      "text/plain": [
       "None"
      ]
     },
     "metadata": {},
     "output_type": "display_data"
    }
   ],
   "source": [
    "# it displays concise information about the structure of reviews_csv, such as the data type, non-null count\n",
    "display(reviews_csv.info())"
   ]
  },
  {
   "cell_type": "code",
   "execution_count": 16,
   "metadata": {},
   "outputs": [
    {
     "data": {
      "text/html": [
       "<div>\n",
       "<style scoped>\n",
       "    .dataframe tbody tr th:only-of-type {\n",
       "        vertical-align: middle;\n",
       "    }\n",
       "\n",
       "    .dataframe tbody tr th {\n",
       "        vertical-align: top;\n",
       "    }\n",
       "\n",
       "    .dataframe thead th {\n",
       "        text-align: right;\n",
       "    }\n",
       "</style>\n",
       "<table border=\"1\" class=\"dataframe\">\n",
       "  <thead>\n",
       "    <tr style=\"text-align: right;\">\n",
       "      <th></th>\n",
       "      <th>Score</th>\n",
       "    </tr>\n",
       "  </thead>\n",
       "  <tbody>\n",
       "    <tr>\n",
       "      <th>count</th>\n",
       "      <td>39063.000000</td>\n",
       "    </tr>\n",
       "    <tr>\n",
       "      <th>mean</th>\n",
       "      <td>1.487648</td>\n",
       "    </tr>\n",
       "    <tr>\n",
       "      <th>std</th>\n",
       "      <td>1.400332</td>\n",
       "    </tr>\n",
       "    <tr>\n",
       "      <th>min</th>\n",
       "      <td>0.000000</td>\n",
       "    </tr>\n",
       "    <tr>\n",
       "      <th>25%</th>\n",
       "      <td>0.000000</td>\n",
       "    </tr>\n",
       "    <tr>\n",
       "      <th>50%</th>\n",
       "      <td>1.000000</td>\n",
       "    </tr>\n",
       "    <tr>\n",
       "      <th>75%</th>\n",
       "      <td>2.000000</td>\n",
       "    </tr>\n",
       "    <tr>\n",
       "      <th>max</th>\n",
       "      <td>5.000000</td>\n",
       "    </tr>\n",
       "  </tbody>\n",
       "</table>\n",
       "</div>"
      ],
      "text/plain": [
       "              Score\n",
       "count  39063.000000\n",
       "mean       1.487648\n",
       "std        1.400332\n",
       "min        0.000000\n",
       "25%        0.000000\n",
       "50%        1.000000\n",
       "75%        2.000000\n",
       "max        5.000000"
      ]
     },
     "metadata": {},
     "output_type": "display_data"
    }
   ],
   "source": [
    "# it will display count, mean, standard deviation, minimum, and percentiles\n",
    "display(reviews_csv.describe())"
   ]
  },
  {
   "cell_type": "markdown",
   "metadata": {},
   "source": [
    "### File 3: users.csv"
   ]
  },
  {
   "cell_type": "code",
   "execution_count": 18,
   "metadata": {},
   "outputs": [],
   "source": [
    "#  reads the data from a'users_csv' file  into a Pandas DataFrame called users_csv\n",
    "\n",
    "users_csv = pd.read_csv('users.csv')"
   ]
  },
  {
   "cell_type": "code",
   "execution_count": 19,
   "metadata": {},
   "outputs": [
    {
     "name": "stdout",
     "output_type": "stream",
     "text": [
      "<class 'pandas.core.frame.DataFrame'>\n",
      "RangeIndex: 5000 entries, 0 to 4999\n",
      "Data columns (total 3 columns):\n",
      " #   Column    Non-Null Count  Dtype \n",
      "---  ------    --------------  ----- \n",
      " 0   Username  5000 non-null   object\n",
      " 1   DOB       5000 non-null   object\n",
      " 2   State     5000 non-null   object\n",
      "dtypes: object(3)\n",
      "memory usage: 117.3+ KB\n"
     ]
    },
    {
     "data": {
      "text/plain": [
       "None"
      ]
     },
     "metadata": {},
     "output_type": "display_data"
    }
   ],
   "source": [
    "# to display concise information about the structure of users_csv, such as the data type, non-null count\n",
    "\n",
    "display(users_csv.info())"
   ]
  },
  {
   "cell_type": "code",
   "execution_count": 20,
   "metadata": {},
   "outputs": [],
   "source": [
    "# to convert the 'DOB' column in the users_csv to a datetime format using the specified date format '%d.%m.%Y'\n",
    "users_csv['DOB'] = pd.to_datetime(users_csv['DOB'], format = '%d.%m.%Y')"
   ]
  },
  {
   "cell_type": "code",
   "execution_count": 21,
   "metadata": {},
   "outputs": [
    {
     "data": {
      "text/html": [
       "<div>\n",
       "<style scoped>\n",
       "    .dataframe tbody tr th:only-of-type {\n",
       "        vertical-align: middle;\n",
       "    }\n",
       "\n",
       "    .dataframe tbody tr th {\n",
       "        vertical-align: top;\n",
       "    }\n",
       "\n",
       "    .dataframe thead th {\n",
       "        text-align: right;\n",
       "    }\n",
       "</style>\n",
       "<table border=\"1\" class=\"dataframe\">\n",
       "  <thead>\n",
       "    <tr style=\"text-align: right;\">\n",
       "      <th></th>\n",
       "      <th>Username</th>\n",
       "      <th>DOB</th>\n",
       "      <th>State</th>\n",
       "    </tr>\n",
       "  </thead>\n",
       "  <tbody>\n",
       "    <tr>\n",
       "      <th>0</th>\n",
       "      <td>bkpn1412</td>\n",
       "      <td>1983-07-31</td>\n",
       "      <td>Oregon</td>\n",
       "    </tr>\n",
       "    <tr>\n",
       "      <th>1</th>\n",
       "      <td>gqjs4414</td>\n",
       "      <td>1998-07-27</td>\n",
       "      <td>Massachusetts</td>\n",
       "    </tr>\n",
       "    <tr>\n",
       "      <th>2</th>\n",
       "      <td>eehe1434</td>\n",
       "      <td>1950-08-08</td>\n",
       "      <td>Idaho</td>\n",
       "    </tr>\n",
       "    <tr>\n",
       "      <th>3</th>\n",
       "      <td>hkxj1334</td>\n",
       "      <td>1969-08-03</td>\n",
       "      <td>Florida</td>\n",
       "    </tr>\n",
       "    <tr>\n",
       "      <th>4</th>\n",
       "      <td>jjbd1412</td>\n",
       "      <td>2001-07-26</td>\n",
       "      <td>Georgia</td>\n",
       "    </tr>\n",
       "  </tbody>\n",
       "</table>\n",
       "</div>"
      ],
      "text/plain": [
       "   Username        DOB          State\n",
       "0  bkpn1412 1983-07-31         Oregon\n",
       "1  gqjs4414 1998-07-27  Massachusetts\n",
       "2  eehe1434 1950-08-08          Idaho\n",
       "3  hkxj1334 1969-08-03        Florida\n",
       "4  jjbd1412 2001-07-26        Georgia"
      ]
     },
     "metadata": {},
     "output_type": "display_data"
    }
   ],
   "source": [
    "# it displays the first few rows of the users_csv file \n",
    "\n",
    "display(users_csv.head())"
   ]
  },
  {
   "cell_type": "code",
   "execution_count": 22,
   "metadata": {},
   "outputs": [
    {
     "data": {
      "text/html": [
       "<div>\n",
       "<style scoped>\n",
       "    .dataframe tbody tr th:only-of-type {\n",
       "        vertical-align: middle;\n",
       "    }\n",
       "\n",
       "    .dataframe tbody tr th {\n",
       "        vertical-align: top;\n",
       "    }\n",
       "\n",
       "    .dataframe thead th {\n",
       "        text-align: right;\n",
       "    }\n",
       "</style>\n",
       "<table border=\"1\" class=\"dataframe\">\n",
       "  <thead>\n",
       "    <tr style=\"text-align: right;\">\n",
       "      <th></th>\n",
       "      <th>Username</th>\n",
       "      <th>DOB</th>\n",
       "      <th>age</th>\n",
       "      <th>State</th>\n",
       "    </tr>\n",
       "  </thead>\n",
       "  <tbody>\n",
       "    <tr>\n",
       "      <th>0</th>\n",
       "      <td>bkpn1412</td>\n",
       "      <td>1983-07-31</td>\n",
       "      <td>42</td>\n",
       "      <td>Oregon</td>\n",
       "    </tr>\n",
       "    <tr>\n",
       "      <th>1</th>\n",
       "      <td>gqjs4414</td>\n",
       "      <td>1998-07-27</td>\n",
       "      <td>27</td>\n",
       "      <td>Massachusetts</td>\n",
       "    </tr>\n",
       "    <tr>\n",
       "      <th>2</th>\n",
       "      <td>eehe1434</td>\n",
       "      <td>1950-08-08</td>\n",
       "      <td>75</td>\n",
       "      <td>Idaho</td>\n",
       "    </tr>\n",
       "    <tr>\n",
       "      <th>3</th>\n",
       "      <td>hkxj1334</td>\n",
       "      <td>1969-08-03</td>\n",
       "      <td>56</td>\n",
       "      <td>Florida</td>\n",
       "    </tr>\n",
       "    <tr>\n",
       "      <th>4</th>\n",
       "      <td>jjbd1412</td>\n",
       "      <td>2001-07-26</td>\n",
       "      <td>24</td>\n",
       "      <td>Georgia</td>\n",
       "    </tr>\n",
       "  </tbody>\n",
       "</table>\n",
       "</div>"
      ],
      "text/plain": [
       "   Username        DOB  age          State\n",
       "0  bkpn1412 1983-07-31   42         Oregon\n",
       "1  gqjs4414 1998-07-27   27  Massachusetts\n",
       "2  eehe1434 1950-08-08   75          Idaho\n",
       "3  hkxj1334 1969-08-03   56        Florida\n",
       "4  jjbd1412 2001-07-26   24        Georgia"
      ]
     },
     "execution_count": 22,
     "metadata": {},
     "output_type": "execute_result"
    }
   ],
   "source": [
    "# Convert DOB to datetime and derive age\n",
    "users_csv['DOB'] = pd.to_datetime(users_csv['DOB'], errors='coerce')\n",
    "users_csv['age'] = 2025 - users_csv['DOB'].dt.year\n",
    "\n",
    "# Ensure numeric fields are in proper format\n",
    "products_csv['Price'] = pd.to_numeric(products_csv['Price'], errors='coerce')\n",
    "products_csv['Av_Score'] = pd.to_numeric(products_csv['Av_Score'], errors='coerce')\n",
    "\n",
    "# Preview cleaned data\n",
    "users_csv[['Username', 'DOB', 'age', 'State']].head()"
   ]
  },
  {
   "cell_type": "markdown",
   "metadata": {},
   "source": [
    "## Reading JSON Files"
   ]
  },
  {
   "cell_type": "markdown",
   "metadata": {},
   "source": [
    "### File 1: jcpenney_products.json"
   ]
  },
  {
   "cell_type": "code",
   "execution_count": 25,
   "metadata": {},
   "outputs": [],
   "source": [
    "# This line of code reads data from a JSON file 'jcpenney_products.json' into DataFrame called products_json\n",
    "# The lines=True argument to new line-separated json objects\n",
    "products_json = pd.read_json('jcpenney_products.json', lines = True)"
   ]
  },
  {
   "cell_type": "code",
   "execution_count": 26,
   "metadata": {},
   "outputs": [
    {
     "data": {
      "text/html": [
       "<div>\n",
       "<style scoped>\n",
       "    .dataframe tbody tr th:only-of-type {\n",
       "        vertical-align: middle;\n",
       "    }\n",
       "\n",
       "    .dataframe tbody tr th {\n",
       "        vertical-align: top;\n",
       "    }\n",
       "\n",
       "    .dataframe thead th {\n",
       "        text-align: right;\n",
       "    }\n",
       "</style>\n",
       "<table border=\"1\" class=\"dataframe\">\n",
       "  <thead>\n",
       "    <tr style=\"text-align: right;\">\n",
       "      <th></th>\n",
       "      <th>uniq_id</th>\n",
       "      <th>sku</th>\n",
       "      <th>name_title</th>\n",
       "      <th>description</th>\n",
       "      <th>list_price</th>\n",
       "      <th>sale_price</th>\n",
       "      <th>category</th>\n",
       "      <th>category_tree</th>\n",
       "      <th>average_product_rating</th>\n",
       "      <th>product_url</th>\n",
       "      <th>product_image_urls</th>\n",
       "      <th>brand</th>\n",
       "      <th>total_number_reviews</th>\n",
       "      <th>Reviews</th>\n",
       "      <th>Bought With</th>\n",
       "    </tr>\n",
       "  </thead>\n",
       "  <tbody>\n",
       "    <tr>\n",
       "      <th>0</th>\n",
       "      <td>b6c0b6bea69c722939585baeac73c13d</td>\n",
       "      <td>pp5006380337</td>\n",
       "      <td>Alfred Dunner® Essential Pull On Capri Pant</td>\n",
       "      <td>You'll return to our Alfred Dunner pull-on cap...</td>\n",
       "      <td>41.09</td>\n",
       "      <td>24.16</td>\n",
       "      <td>alfred dunner</td>\n",
       "      <td>jcpenney|women|alfred dunner</td>\n",
       "      <td>2.625</td>\n",
       "      <td>http://www.jcpenney.com/alfred-dunner-essentia...</td>\n",
       "      <td>http://s7d9.scene7.com/is/image/JCPenney/DP122...</td>\n",
       "      <td>Alfred Dunner</td>\n",
       "      <td>8</td>\n",
       "      <td>[{'User': 'fsdv4141', 'Review': 'You never hav...</td>\n",
       "      <td>[898e42fe937a33e8ce5e900ca7a4d924, 8c02c262567...</td>\n",
       "    </tr>\n",
       "    <tr>\n",
       "      <th>1</th>\n",
       "      <td>93e5272c51d8cce02597e3ce67b7ad0a</td>\n",
       "      <td>pp5006380337</td>\n",
       "      <td>Alfred Dunner® Essential Pull On Capri Pant</td>\n",
       "      <td>You'll return to our Alfred Dunner pull-on cap...</td>\n",
       "      <td>41.09</td>\n",
       "      <td>24.16</td>\n",
       "      <td>alfred dunner</td>\n",
       "      <td>jcpenney|women|alfred dunner</td>\n",
       "      <td>3.000</td>\n",
       "      <td>http://www.jcpenney.com/alfred-dunner-essentia...</td>\n",
       "      <td>http://s7d9.scene7.com/is/image/JCPenney/DP122...</td>\n",
       "      <td>Alfred Dunner</td>\n",
       "      <td>8</td>\n",
       "      <td>[{'User': 'tpcu2211', 'Review': 'You never hav...</td>\n",
       "      <td>[bc9ab3406dcaa84a123b9da862e6367d, 18eb69e8fc2...</td>\n",
       "    </tr>\n",
       "    <tr>\n",
       "      <th>2</th>\n",
       "      <td>013e320f2f2ec0cf5b3ff5418d688528</td>\n",
       "      <td>pp5006380337</td>\n",
       "      <td>Alfred Dunner® Essential Pull On Capri Pant</td>\n",
       "      <td>You'll return to our Alfred Dunner pull-on cap...</td>\n",
       "      <td>41.09</td>\n",
       "      <td>24.16</td>\n",
       "      <td>view all</td>\n",
       "      <td>jcpenney|women|view all</td>\n",
       "      <td>2.625</td>\n",
       "      <td>http://www.jcpenney.com/alfred-dunner-essentia...</td>\n",
       "      <td>http://s7d9.scene7.com/is/image/JCPenney/DP122...</td>\n",
       "      <td>Alfred Dunner</td>\n",
       "      <td>8</td>\n",
       "      <td>[{'User': 'pcfg3234', 'Review': 'You never hav...</td>\n",
       "      <td>[3ce70f519a9cfdd85cdbdecd358e5347, b0295c96d2b...</td>\n",
       "    </tr>\n",
       "    <tr>\n",
       "      <th>3</th>\n",
       "      <td>505e6633d81f2cb7400c0cfa0394c427</td>\n",
       "      <td>pp5006380337</td>\n",
       "      <td>Alfred Dunner® Essential Pull On Capri Pant</td>\n",
       "      <td>You'll return to our Alfred Dunner pull-on cap...</td>\n",
       "      <td>41.09</td>\n",
       "      <td>24.16</td>\n",
       "      <td>view all</td>\n",
       "      <td>jcpenney|women|view all</td>\n",
       "      <td>3.500</td>\n",
       "      <td>http://www.jcpenney.com/alfred-dunner-essentia...</td>\n",
       "      <td>http://s7d9.scene7.com/is/image/JCPenney/DP122...</td>\n",
       "      <td>Alfred Dunner</td>\n",
       "      <td>8</td>\n",
       "      <td>[{'User': 'ngrq4411', 'Review': 'You never hav...</td>\n",
       "      <td>[efcd811edccbeb5e67eaa8ef0d991f7c, 7b2cc00171e...</td>\n",
       "    </tr>\n",
       "    <tr>\n",
       "      <th>4</th>\n",
       "      <td>d969a8542122e1331e304b09f81a83f6</td>\n",
       "      <td>pp5006380337</td>\n",
       "      <td>Alfred Dunner® Essential Pull On Capri Pant</td>\n",
       "      <td>You'll return to our Alfred Dunner pull-on cap...</td>\n",
       "      <td>41.09</td>\n",
       "      <td>24.16</td>\n",
       "      <td>view all</td>\n",
       "      <td>jcpenney|women|view all</td>\n",
       "      <td>3.125</td>\n",
       "      <td>http://www.jcpenney.com/alfred-dunner-essentia...</td>\n",
       "      <td>http://s7d9.scene7.com/is/image/JCPenney/DP122...</td>\n",
       "      <td>Alfred Dunner</td>\n",
       "      <td>8</td>\n",
       "      <td>[{'User': 'nbmi2334', 'Review': 'You never hav...</td>\n",
       "      <td>[0ca5ad2a218f59eb83eec1e248a0782d, 9869fc8da14...</td>\n",
       "    </tr>\n",
       "  </tbody>\n",
       "</table>\n",
       "</div>"
      ],
      "text/plain": [
       "                            uniq_id           sku  \\\n",
       "0  b6c0b6bea69c722939585baeac73c13d  pp5006380337   \n",
       "1  93e5272c51d8cce02597e3ce67b7ad0a  pp5006380337   \n",
       "2  013e320f2f2ec0cf5b3ff5418d688528  pp5006380337   \n",
       "3  505e6633d81f2cb7400c0cfa0394c427  pp5006380337   \n",
       "4  d969a8542122e1331e304b09f81a83f6  pp5006380337   \n",
       "\n",
       "                                    name_title  \\\n",
       "0  Alfred Dunner® Essential Pull On Capri Pant   \n",
       "1  Alfred Dunner® Essential Pull On Capri Pant   \n",
       "2  Alfred Dunner® Essential Pull On Capri Pant   \n",
       "3  Alfred Dunner® Essential Pull On Capri Pant   \n",
       "4  Alfred Dunner® Essential Pull On Capri Pant   \n",
       "\n",
       "                                         description list_price sale_price  \\\n",
       "0  You'll return to our Alfred Dunner pull-on cap...      41.09      24.16   \n",
       "1  You'll return to our Alfred Dunner pull-on cap...      41.09      24.16   \n",
       "2  You'll return to our Alfred Dunner pull-on cap...      41.09      24.16   \n",
       "3  You'll return to our Alfred Dunner pull-on cap...      41.09      24.16   \n",
       "4  You'll return to our Alfred Dunner pull-on cap...      41.09      24.16   \n",
       "\n",
       "        category                 category_tree  average_product_rating  \\\n",
       "0  alfred dunner  jcpenney|women|alfred dunner                   2.625   \n",
       "1  alfred dunner  jcpenney|women|alfred dunner                   3.000   \n",
       "2       view all       jcpenney|women|view all                   2.625   \n",
       "3       view all       jcpenney|women|view all                   3.500   \n",
       "4       view all       jcpenney|women|view all                   3.125   \n",
       "\n",
       "                                         product_url  \\\n",
       "0  http://www.jcpenney.com/alfred-dunner-essentia...   \n",
       "1  http://www.jcpenney.com/alfred-dunner-essentia...   \n",
       "2  http://www.jcpenney.com/alfred-dunner-essentia...   \n",
       "3  http://www.jcpenney.com/alfred-dunner-essentia...   \n",
       "4  http://www.jcpenney.com/alfred-dunner-essentia...   \n",
       "\n",
       "                                  product_image_urls          brand  \\\n",
       "0  http://s7d9.scene7.com/is/image/JCPenney/DP122...  Alfred Dunner   \n",
       "1  http://s7d9.scene7.com/is/image/JCPenney/DP122...  Alfred Dunner   \n",
       "2  http://s7d9.scene7.com/is/image/JCPenney/DP122...  Alfred Dunner   \n",
       "3  http://s7d9.scene7.com/is/image/JCPenney/DP122...  Alfred Dunner   \n",
       "4  http://s7d9.scene7.com/is/image/JCPenney/DP122...  Alfred Dunner   \n",
       "\n",
       "   total_number_reviews                                            Reviews  \\\n",
       "0                     8  [{'User': 'fsdv4141', 'Review': 'You never hav...   \n",
       "1                     8  [{'User': 'tpcu2211', 'Review': 'You never hav...   \n",
       "2                     8  [{'User': 'pcfg3234', 'Review': 'You never hav...   \n",
       "3                     8  [{'User': 'ngrq4411', 'Review': 'You never hav...   \n",
       "4                     8  [{'User': 'nbmi2334', 'Review': 'You never hav...   \n",
       "\n",
       "                                         Bought With  \n",
       "0  [898e42fe937a33e8ce5e900ca7a4d924, 8c02c262567...  \n",
       "1  [bc9ab3406dcaa84a123b9da862e6367d, 18eb69e8fc2...  \n",
       "2  [3ce70f519a9cfdd85cdbdecd358e5347, b0295c96d2b...  \n",
       "3  [efcd811edccbeb5e67eaa8ef0d991f7c, 7b2cc00171e...  \n",
       "4  [0ca5ad2a218f59eb83eec1e248a0782d, 9869fc8da14...  "
      ]
     },
     "metadata": {},
     "output_type": "display_data"
    }
   ],
   "source": [
    "# to display the first few rows of the products_json file \n",
    "\n",
    "display(products_json.head())"
   ]
  },
  {
   "cell_type": "code",
   "execution_count": 27,
   "metadata": {},
   "outputs": [
    {
     "name": "stdout",
     "output_type": "stream",
     "text": [
      "<class 'pandas.core.frame.DataFrame'>\n",
      "RangeIndex: 7982 entries, 0 to 7981\n",
      "Data columns (total 15 columns):\n",
      " #   Column                  Non-Null Count  Dtype  \n",
      "---  ------                  --------------  -----  \n",
      " 0   uniq_id                 7982 non-null   object \n",
      " 1   sku                     7982 non-null   object \n",
      " 2   name_title              7982 non-null   object \n",
      " 3   description             7982 non-null   object \n",
      " 4   list_price              7982 non-null   object \n",
      " 5   sale_price              7982 non-null   object \n",
      " 6   category                7982 non-null   object \n",
      " 7   category_tree           7982 non-null   object \n",
      " 8   average_product_rating  7982 non-null   float64\n",
      " 9   product_url             7982 non-null   object \n",
      " 10  product_image_urls      7982 non-null   object \n",
      " 11  brand                   7982 non-null   object \n",
      " 12  total_number_reviews    7982 non-null   int64  \n",
      " 13  Reviews                 7982 non-null   object \n",
      " 14  Bought With             7982 non-null   object \n",
      "dtypes: float64(1), int64(1), object(13)\n",
      "memory usage: 935.5+ KB\n"
     ]
    },
    {
     "data": {
      "text/plain": [
       "None"
      ]
     },
     "metadata": {},
     "output_type": "display_data"
    }
   ],
   "source": [
    "# it displays concise information about the structure of products_json, such as the data type, non-null count\n",
    "\n",
    "display(products_json.info())"
   ]
  },
  {
   "cell_type": "code",
   "execution_count": 28,
   "metadata": {},
   "outputs": [],
   "source": [
    "# remove rows from the Pandas DataFrame products_json where the 'list_price' column contains non-numeric values \n",
    "#The pd.to_numeric function is used with errors='coerce' to convert the column to numeric values\n",
    "# the isnull() fucntion  is used to identify non-numeric values\n",
    "#The rows wil get dropped from the DataFrame in-place using their indices\n",
    "\n",
    "list_price = products_json[pd.to_numeric(products_json.list_price, errors = 'coerce').isnull()]\n",
    "for i in list_price.index:\n",
    "    products_json.drop(i,inplace = True)"
   ]
  },
  {
   "cell_type": "code",
   "execution_count": 29,
   "metadata": {},
   "outputs": [],
   "source": [
    "# it filters and removes rows from the products_json where the 'sale_price' column contains non-numeric values \n",
    "# The pd.to_numeric function is employed with errors='coerce' to convert the column to numeric values\n",
    "# then isnull() is used to identify non-numeric entries\n",
    "# the rows are then  dropped from the DataFrame in place using their indices\n",
    "\n",
    "sale_price = products_json[pd.to_numeric(products_json.sale_price, errors = 'coerce').isnull()]\n",
    "for i in sale_price.index:\n",
    "    products_json.drop(i,inplace = True)"
   ]
  },
  {
   "cell_type": "code",
   "execution_count": 30,
   "metadata": {},
   "outputs": [],
   "source": [
    "# convert list_price and sales_price into numeric values\n",
    "products_json['list_price'] = pd.to_numeric(products_json['list_price'])\n",
    "products_json['sale_price'] = pd.to_numeric(products_json['sale_price'])\n"
   ]
  },
  {
   "cell_type": "code",
   "execution_count": 31,
   "metadata": {},
   "outputs": [],
   "source": [
    "products_json.drop(products_json[products_json['list_price']<0.00].index, inplace = True)"
   ]
  },
  {
   "cell_type": "code",
   "execution_count": 32,
   "metadata": {},
   "outputs": [
    {
     "data": {
      "text/html": [
       "<div>\n",
       "<style scoped>\n",
       "    .dataframe tbody tr th:only-of-type {\n",
       "        vertical-align: middle;\n",
       "    }\n",
       "\n",
       "    .dataframe tbody tr th {\n",
       "        vertical-align: top;\n",
       "    }\n",
       "\n",
       "    .dataframe thead th {\n",
       "        text-align: right;\n",
       "    }\n",
       "</style>\n",
       "<table border=\"1\" class=\"dataframe\">\n",
       "  <thead>\n",
       "    <tr style=\"text-align: right;\">\n",
       "      <th></th>\n",
       "      <th>list_price</th>\n",
       "      <th>sale_price</th>\n",
       "      <th>average_product_rating</th>\n",
       "      <th>total_number_reviews</th>\n",
       "    </tr>\n",
       "  </thead>\n",
       "  <tbody>\n",
       "    <tr>\n",
       "      <th>count</th>\n",
       "      <td>5770.000000</td>\n",
       "      <td>5770.000000</td>\n",
       "      <td>5770.000000</td>\n",
       "      <td>5770.000000</td>\n",
       "    </tr>\n",
       "    <tr>\n",
       "      <th>mean</th>\n",
       "      <td>146.228383</td>\n",
       "      <td>89.639453</td>\n",
       "      <td>2.992093</td>\n",
       "      <td>4.613172</td>\n",
       "    </tr>\n",
       "    <tr>\n",
       "      <th>std</th>\n",
       "      <td>500.937551</td>\n",
       "      <td>317.430770</td>\n",
       "      <td>0.936823</td>\n",
       "      <td>3.212652</td>\n",
       "    </tr>\n",
       "    <tr>\n",
       "      <th>min</th>\n",
       "      <td>8.010000</td>\n",
       "      <td>3.610000</td>\n",
       "      <td>1.000000</td>\n",
       "      <td>1.000000</td>\n",
       "    </tr>\n",
       "    <tr>\n",
       "      <th>25%</th>\n",
       "      <td>41.090000</td>\n",
       "      <td>21.740000</td>\n",
       "      <td>2.500000</td>\n",
       "      <td>1.000000</td>\n",
       "    </tr>\n",
       "    <tr>\n",
       "      <th>50%</th>\n",
       "      <td>58.010000</td>\n",
       "      <td>32.630000</td>\n",
       "      <td>3.000000</td>\n",
       "      <td>4.000000</td>\n",
       "    </tr>\n",
       "    <tr>\n",
       "      <th>75%</th>\n",
       "      <td>87.020000</td>\n",
       "      <td>56.692500</td>\n",
       "      <td>3.500000</td>\n",
       "      <td>8.000000</td>\n",
       "    </tr>\n",
       "    <tr>\n",
       "      <th>max</th>\n",
       "      <td>17122.170000</td>\n",
       "      <td>10273.300000</td>\n",
       "      <td>5.000000</td>\n",
       "      <td>23.000000</td>\n",
       "    </tr>\n",
       "  </tbody>\n",
       "</table>\n",
       "</div>"
      ],
      "text/plain": [
       "         list_price    sale_price  average_product_rating  \\\n",
       "count   5770.000000   5770.000000             5770.000000   \n",
       "mean     146.228383     89.639453                2.992093   \n",
       "std      500.937551    317.430770                0.936823   \n",
       "min        8.010000      3.610000                1.000000   \n",
       "25%       41.090000     21.740000                2.500000   \n",
       "50%       58.010000     32.630000                3.000000   \n",
       "75%       87.020000     56.692500                3.500000   \n",
       "max    17122.170000  10273.300000                5.000000   \n",
       "\n",
       "       total_number_reviews  \n",
       "count           5770.000000  \n",
       "mean               4.613172  \n",
       "std                3.212652  \n",
       "min                1.000000  \n",
       "25%                1.000000  \n",
       "50%                4.000000  \n",
       "75%                8.000000  \n",
       "max               23.000000  "
      ]
     },
     "metadata": {},
     "output_type": "display_data"
    }
   ],
   "source": [
    "display(products_json.describe())"
   ]
  },
  {
   "cell_type": "markdown",
   "metadata": {},
   "source": [
    "### File 2: jcpenney_reviewers.json"
   ]
  },
  {
   "cell_type": "code",
   "execution_count": 34,
   "metadata": {},
   "outputs": [],
   "source": [
    "# This line of code reads data from a JSON file named 'jcpenney_reviewers.json' into reviewers_json dataframe\n",
    "# The lines=True argument is use to show separated json  objects\n",
    "reviewers_json = pd.read_json('jcpenney_reviewers.json', lines = True)"
   ]
  },
  {
   "cell_type": "code",
   "execution_count": 35,
   "metadata": {},
   "outputs": [
    {
     "data": {
      "text/html": [
       "<div>\n",
       "<style scoped>\n",
       "    .dataframe tbody tr th:only-of-type {\n",
       "        vertical-align: middle;\n",
       "    }\n",
       "\n",
       "    .dataframe tbody tr th {\n",
       "        vertical-align: top;\n",
       "    }\n",
       "\n",
       "    .dataframe thead th {\n",
       "        text-align: right;\n",
       "    }\n",
       "</style>\n",
       "<table border=\"1\" class=\"dataframe\">\n",
       "  <thead>\n",
       "    <tr style=\"text-align: right;\">\n",
       "      <th></th>\n",
       "      <th>Username</th>\n",
       "      <th>DOB</th>\n",
       "      <th>State</th>\n",
       "      <th>Reviewed</th>\n",
       "    </tr>\n",
       "  </thead>\n",
       "  <tbody>\n",
       "    <tr>\n",
       "      <th>0</th>\n",
       "      <td>bkpn1412</td>\n",
       "      <td>31.07.1983</td>\n",
       "      <td>Oregon</td>\n",
       "      <td>[cea76118f6a9110a893de2b7654319c0]</td>\n",
       "    </tr>\n",
       "    <tr>\n",
       "      <th>1</th>\n",
       "      <td>gqjs4414</td>\n",
       "      <td>27.07.1998</td>\n",
       "      <td>Massachusetts</td>\n",
       "      <td>[fa04fe6c0dd5189f54fe600838da43d3]</td>\n",
       "    </tr>\n",
       "    <tr>\n",
       "      <th>2</th>\n",
       "      <td>eehe1434</td>\n",
       "      <td>08.08.1950</td>\n",
       "      <td>Idaho</td>\n",
       "      <td>[]</td>\n",
       "    </tr>\n",
       "    <tr>\n",
       "      <th>3</th>\n",
       "      <td>hkxj1334</td>\n",
       "      <td>03.08.1969</td>\n",
       "      <td>Florida</td>\n",
       "      <td>[f129b1803f447c2b1ce43508fb822810, 3b0c9bc0be6...</td>\n",
       "    </tr>\n",
       "    <tr>\n",
       "      <th>4</th>\n",
       "      <td>jjbd1412</td>\n",
       "      <td>26.07.2001</td>\n",
       "      <td>Georgia</td>\n",
       "      <td>[]</td>\n",
       "    </tr>\n",
       "  </tbody>\n",
       "</table>\n",
       "</div>"
      ],
      "text/plain": [
       "   Username         DOB          State  \\\n",
       "0  bkpn1412  31.07.1983         Oregon   \n",
       "1  gqjs4414  27.07.1998  Massachusetts   \n",
       "2  eehe1434  08.08.1950          Idaho   \n",
       "3  hkxj1334  03.08.1969        Florida   \n",
       "4  jjbd1412  26.07.2001        Georgia   \n",
       "\n",
       "                                            Reviewed  \n",
       "0                 [cea76118f6a9110a893de2b7654319c0]  \n",
       "1                 [fa04fe6c0dd5189f54fe600838da43d3]  \n",
       "2                                                 []  \n",
       "3  [f129b1803f447c2b1ce43508fb822810, 3b0c9bc0be6...  \n",
       "4                                                 []  "
      ]
     },
     "metadata": {},
     "output_type": "display_data"
    }
   ],
   "source": [
    "# to display the first few rows of the reviewers_json file \n",
    "\n",
    "display(reviewers_json.head())"
   ]
  },
  {
   "cell_type": "code",
   "execution_count": 36,
   "metadata": {},
   "outputs": [],
   "source": [
    "# we convert the 'DOB' column in the reviewers_json to a datetime format using the specified date format'%d.%m.%Y'\n",
    "\n",
    "reviewers_json['DOB'] = pd.to_datetime(reviewers_json['DOB'], format = '%d.%m.%Y')"
   ]
  },
  {
   "cell_type": "code",
   "execution_count": 37,
   "metadata": {},
   "outputs": [
    {
     "data": {
      "text/html": [
       "<div>\n",
       "<style scoped>\n",
       "    .dataframe tbody tr th:only-of-type {\n",
       "        vertical-align: middle;\n",
       "    }\n",
       "\n",
       "    .dataframe tbody tr th {\n",
       "        vertical-align: top;\n",
       "    }\n",
       "\n",
       "    .dataframe thead th {\n",
       "        text-align: right;\n",
       "    }\n",
       "</style>\n",
       "<table border=\"1\" class=\"dataframe\">\n",
       "  <thead>\n",
       "    <tr style=\"text-align: right;\">\n",
       "      <th></th>\n",
       "      <th>Username</th>\n",
       "      <th>DOB</th>\n",
       "      <th>State</th>\n",
       "      <th>Reviewed</th>\n",
       "    </tr>\n",
       "  </thead>\n",
       "  <tbody>\n",
       "    <tr>\n",
       "      <th>0</th>\n",
       "      <td>bkpn1412</td>\n",
       "      <td>1983-07-31</td>\n",
       "      <td>Oregon</td>\n",
       "      <td>[cea76118f6a9110a893de2b7654319c0]</td>\n",
       "    </tr>\n",
       "    <tr>\n",
       "      <th>1</th>\n",
       "      <td>gqjs4414</td>\n",
       "      <td>1998-07-27</td>\n",
       "      <td>Massachusetts</td>\n",
       "      <td>[fa04fe6c0dd5189f54fe600838da43d3]</td>\n",
       "    </tr>\n",
       "    <tr>\n",
       "      <th>2</th>\n",
       "      <td>eehe1434</td>\n",
       "      <td>1950-08-08</td>\n",
       "      <td>Idaho</td>\n",
       "      <td>[]</td>\n",
       "    </tr>\n",
       "    <tr>\n",
       "      <th>3</th>\n",
       "      <td>hkxj1334</td>\n",
       "      <td>1969-08-03</td>\n",
       "      <td>Florida</td>\n",
       "      <td>[f129b1803f447c2b1ce43508fb822810, 3b0c9bc0be6...</td>\n",
       "    </tr>\n",
       "    <tr>\n",
       "      <th>4</th>\n",
       "      <td>jjbd1412</td>\n",
       "      <td>2001-07-26</td>\n",
       "      <td>Georgia</td>\n",
       "      <td>[]</td>\n",
       "    </tr>\n",
       "  </tbody>\n",
       "</table>\n",
       "</div>"
      ],
      "text/plain": [
       "   Username        DOB          State  \\\n",
       "0  bkpn1412 1983-07-31         Oregon   \n",
       "1  gqjs4414 1998-07-27  Massachusetts   \n",
       "2  eehe1434 1950-08-08          Idaho   \n",
       "3  hkxj1334 1969-08-03        Florida   \n",
       "4  jjbd1412 2001-07-26        Georgia   \n",
       "\n",
       "                                            Reviewed  \n",
       "0                 [cea76118f6a9110a893de2b7654319c0]  \n",
       "1                 [fa04fe6c0dd5189f54fe600838da43d3]  \n",
       "2                                                 []  \n",
       "3  [f129b1803f447c2b1ce43508fb822810, 3b0c9bc0be6...  \n",
       "4                                                 []  "
      ]
     },
     "metadata": {},
     "output_type": "display_data"
    }
   ],
   "source": [
    "# display the first few rows of the reviewers_json file \n",
    "\n",
    "display(reviewers_json.head())"
   ]
  },
  {
   "cell_type": "markdown",
   "metadata": {},
   "source": [
    "# DATA VISUALISATION AND ANALYSIS"
   ]
  },
  {
   "cell_type": "markdown",
   "metadata": {},
   "source": [
    "## Review Score Distribution"
   ]
  },
  {
   "cell_type": "code",
   "execution_count": 40,
   "metadata": {},
   "outputs": [
    {
     "data": {
      "image/png": "[encoded data removed]",
      "text/plain": [
       "<Figure size 640x480 with 1 Axes>"
      ]
     },
     "metadata": {},
     "output_type": "display_data"
    }
   ],
   "source": [
    "import matplotlib.pyplot as plt\n",
    "import seaborn as sns\n",
    "\n",
    "sns.histplot(reviews_csv['Score'], bins=5)\n",
    "plt.title('Distribution of Review Scores')\n",
    "plt.xlabel('Score')\n",
    "plt.ylabel('Count')\n",
    "plt.show()"
   ]
  },
  {
   "cell_type": "markdown",
   "metadata": {},
   "source": [
    "## Age Distribution of Reviewers"
   ]
  },
  {
   "cell_type": "code",
   "execution_count": 42,
   "metadata": {},
   "outputs": [
    {
     "data": {
      "image/png": "[encoded data removed]",
      "text/plain": [
       "<Figure size 640x480 with 1 Axes>"
      ]
     },
     "metadata": {},
     "output_type": "display_data"
    }
   ],
   "source": [
    "users_csv['age'].dropna().astype(int).hist(bins=20)\n",
    "plt.title(\"User Age Distribution\")\n",
    "plt.xlabel(\"Age\")\n",
    "plt.ylabel(\"Number of Users\")\n",
    "plt.show()"
   ]
  },
  {
   "cell_type": "markdown",
   "metadata": {},
   "source": [
    "## State-wise Review Scores"
   ]
  },
  {
   "cell_type": "code",
   "execution_count": 44,
   "metadata": {},
   "outputs": [
    {
     "data": {
      "image/png": "[encoded data removed]",
      "text/plain": [
       "<Figure size 1000x800 with 1 Axes>"
      ]
     },
     "metadata": {},
     "output_type": "display_data"
    }
   ],
   "source": [
    "merged = pd.merge(reviews_csv, users_csv, on='Username', how='left')\n",
    "state_scores = merged.groupby('State')['Score'].mean().sort_values()\n",
    "state_scores.plot(kind='barh', figsize=(10, 8), title=\"Average Review Score by State\")\n",
    "plt.xlabel(\"Average Score\")\n",
    "plt.show()"
   ]
  },
  {
   "cell_type": "markdown",
   "metadata": {},
   "source": [
    "## Sentiment Analysis of Reviews"
   ]
  },
  {
   "cell_type": "code",
   "execution_count": null,
   "metadata": {},
   "outputs": [],
   "source": [
    "from textblob import TextBlob\n",
    "\n",
    "reviews_csv['sentiment'] = reviews_csv['Review'].apply(lambda x: TextBlob(str(x)).sentiment.polarity)\n",
    "sns.scatterplot(x='Score', y='sentiment', data=reviews_csv)\n",
    "plt.title(\"Sentiment vs. Review Score\")\n",
    "plt.show()"
   ]
  },
  {
   "cell_type": "markdown",
   "metadata": {},
   "source": [
    "## Word Cloud of All Reviews"
   ]
  },
  {
   "cell_type": "code",
   "execution_count": null,
   "metadata": {},
   "outputs": [],
   "source": [
    "from wordcloud import WordCloud\n",
    "\n",
    "text = \" \".join(str(review) for review in reviews_csv['Review'].dropna())\n",
    "wordcloud = WordCloud(width=800, height=400, background_color='white').generate(text)\n",
    "\n",
    "plt.figure(figsize=(10, 5))\n",
    "plt.imshow(wordcloud, interpolation='bilinear')\n",
    "plt.axis(\"off\")\n",
    "plt.title(\"Most Common Words in Reviews\")\n",
    "plt.show()"
   ]
  },
  {
   "cell_type": "markdown",
   "metadata": {},
   "source": [
    "## Highest Rated Categories"
   ]
  },
  {
   "cell_type": "markdown",
   "metadata": {},
   "source": [
    "It can useful for summarizing and analyzing average product ratings and sale prices of different product categories.\n",
    "This can provide valuable insights for pricing strategies and decision making processes."
   ]
  },
  {
   "cell_type": "code",
   "execution_count": null,
   "metadata": {},
   "outputs": [],
   "source": [
    "# we will use jcpenney_products.json file\n",
    "# we already know that there are no null values in average_product_rating\n",
    "# we will group all the given brands and will calculate their average rating\n",
    "\n",
    "category = products_json.groupby('category')[['average_product_rating','sale_price']].mean().reset_index()"
   ]
  },
  {
   "cell_type": "code",
   "execution_count": null,
   "metadata": {},
   "outputs": [],
   "source": [
    "# The display function to display the first few rows of a DataFrame -'category' using \n",
    "# using the len function to display total number of categories \n",
    "# This code is used to inspect the initial entries and provide the Total number of categories\n",
    "\n",
    "display(category.head())\n",
    "print(f'Total number of categories : {len(category)}')"
   ]
  },
  {
   "cell_type": "code",
   "execution_count": null,
   "metadata": {},
   "outputs": [],
   "source": [
    "# this code  removing rows where the 'category' column has null value.\n",
    "display(category['category'].eq('').sum())\n",
    "category.drop(category[category['category'] == ''].index, inplace = True)"
   ]
  },
  {
   "cell_type": "code",
   "execution_count": null,
   "metadata": {},
   "outputs": [],
   "source": [
    "# to display content of the DataFrame head function is used.\n",
    "display(category.head())"
   ]
  },
  {
   "cell_type": "code",
   "execution_count": null,
   "metadata": {},
   "outputs": [],
   "source": [
    "# sort the given dataframe'brands' in descending order on ratings\n",
    "category_sorted_by_rating = category.sort_values(by ='average_product_rating', ascending = False)"
   ]
  },
  {
   "cell_type": "code",
   "execution_count": null,
   "metadata": {},
   "outputs": [],
   "source": [
    "# output will display the list of the top 10 products based on Ratings\n",
    "print('Here is the list of top 10 products based on ratings')\n",
    "top_10_by_ratings = category_sorted_by_rating.head(10)\n",
    "display(top_10_by_ratings)\n"
   ]
  },
  {
   "cell_type": "code",
   "execution_count": null,
   "metadata": {},
   "outputs": [],
   "source": [
    "# we will use bar graph to plot the brands and price of top products\n",
    "figure = plt.figure(figsize = (30,10))\n",
    "plt.bar(top_10_by_ratings['category'], top_10_by_ratings['sale_price'], color= 'pink', width = 0.5)\n",
    "plt.xlabel('CATEGORIES')\n",
    "plt.ylabel('PRICE')\n",
    "plt.title('PRICE DISTRIBUTION OF HIGHEST RATED CATEGORIES')\n",
    "\n",
    "plt.show()"
   ]
  },
  {
   "cell_type": "markdown",
   "metadata": {},
   "source": [
    "## Top products based on price"
   ]
  },
  {
   "cell_type": "markdown",
   "metadata": {},
   "source": [
    "This can be useful for gaining insights into the pricing structure of different product categories. \n",
    "This can create well informed decisions related to pricing strategy and overall product management in various companies."
   ]
  },
  {
   "cell_type": "code",
   "execution_count": null,
   "metadata": {},
   "outputs": [],
   "source": [
    "# sort the given dataframe'brands' in descending order on ratings\n",
    "category_sorted_by_price = category.sort_values(by = 'sale_price', ascending = False)"
   ]
  },
  {
   "cell_type": "code",
   "execution_count": null,
   "metadata": {},
   "outputs": [],
   "source": [
    "print('Here is the list of top 10 products based on sale_price')\n",
    "top_10_by_price = category_sorted_by_price.head(10)\n",
    "display(top_10_by_price)"
   ]
  },
  {
   "cell_type": "code",
   "execution_count": null,
   "metadata": {},
   "outputs": [],
   "source": [
    "# we will use bar graph to plot the brands and price of top products\n",
    "figure = plt.figure(figsize = (30, 10))\n",
    "plt.bar(top_10_by_price['category'],top_10_by_price['average_product_rating'], color = 'grey', width = 0.5)\n",
    "plt.xlabel('CATEGORIES')\n",
    "plt.ylabel('PRICE')\n",
    "plt.title('TOP 10 PRODUCTS')\n",
    "plt.show()"
   ]
  },
  {
   "cell_type": "markdown",
   "metadata": {},
   "source": [
    "## Top selling product based on reviews"
   ]
  },
  {
   "cell_type": "markdown",
   "metadata": {},
   "source": [
    "The insights from top selling products can be useful for summarizing along with analyzing reviews among different products, providing insights that can guide product management, marketing, and decision making process.\n"
   ]
  },
  {
   "cell_type": "code",
   "execution_count": null,
   "metadata": {},
   "outputs": [],
   "source": [
    "# we will use the groupby method to count of reviews for each unique product identifier ('Uniq_id'),\n",
    "# in the 'reviews_csv' DataFrame \n",
    "# The display function is then used to show the resulting DataFrame which is top_selling_prod\n",
    "\n",
    "top_selling_prod = reviews_csv.groupby('Uniq_id')['Uniq_id'].count().to_frame(name = 'Count')\n",
    "display(top_selling_prod)"
   ]
  },
  {
   "cell_type": "code",
   "execution_count": null,
   "metadata": {},
   "outputs": [],
   "source": [
    "# highest number of reviwes for the top selling products\n",
    "highest = top_selling_prod['Count'].max()\n",
    "print(highest)"
   ]
  },
  {
   "cell_type": "code",
   "execution_count": null,
   "metadata": {},
   "outputs": [],
   "source": [
    "# to display the products that have the highest count of reviews\n",
    "top_prod = top_selling_prod[top_selling_prod.Count == highest]\n",
    "display(top_prod)"
   ]
  },
  {
   "cell_type": "code",
   "execution_count": null,
   "metadata": {},
   "outputs": [],
   "source": [
    "# This line of code performs a merge operation between two DataFrames, \n",
    "# top_prod and products_csv, using the common column 'Uniq_id'.\n",
    "products_data = (pd.merge(top_prod, products_csv, on = 'Uniq_id'))[['Uniq_id', 'Name', 'Count','Description']]"
   ]
  },
  {
   "cell_type": "code",
   "execution_count": null,
   "metadata": {},
   "outputs": [],
   "source": [
    "# using this code will display the contents of DataFrame.\n",
    "display(products_data)\n"
   ]
  },
  {
   "cell_type": "code",
   "execution_count": null,
   "metadata": {},
   "outputs": [],
   "source": [
    "# function is used to rename columns in a DataFrame.\n",
    "products_json_rename = products_json.rename(columns = {'uniq_id':'Uniq_id'})"
   ]
  },
  {
   "cell_type": "code",
   "execution_count": null,
   "metadata": {},
   "outputs": [],
   "source": [
    "products_data = (pd.merge(products_json_rename, top_prod, on ='Uniq_id'))[['Uniq_id', 'name_title', 'Count', 'product_image_urls', 'sale_price','average_product_rating']]"
   ]
  },
  {
   "cell_type": "code",
   "execution_count": null,
   "metadata": {},
   "outputs": [],
   "source": [
    "# this code is used to fetch and display image from 'product_image_urls'\n",
    "for i in products_data.index:\n",
    "    url = products_data['product_image_urls'][i]\n",
    "    img_data = requests.get(url, stream=True).raw\n",
    "    display(Image.open(img_data))"
   ]
  },
  {
   "cell_type": "markdown",
   "metadata": {},
   "source": [
    "## Corelation between list price, sale price, average product rating"
   ]
  },
  {
   "cell_type": "markdown",
   "metadata": {},
   "source": [
    "This  analysis is  used to explore relationships between numeric variables in a dataset and to identify patterns or dependencies.\n",
    "Here in this case corelation between list price, sale price, average product rating\ttotal number reviews is visualised using Plotly Express library to create a scatter plot."
   ]
  },
  {
   "cell_type": "code",
   "execution_count": null,
   "metadata": {},
   "outputs": [],
   "source": [
    "# The .corr() method is used to compute the correlation matrix. \n",
    "# The numeric_only = True argument specifies that only numeric columns should be included \n",
    "products_json.corr(numeric_only = True)"
   ]
  },
  {
   "cell_type": "code",
   "execution_count": null,
   "metadata": {},
   "outputs": [],
   "source": [
    "px.scatter(products_json, x = 'average_product_rating', y = 'list_price', color = 'sale_price')"
   ]
  },
  {
   "cell_type": "markdown",
   "metadata": {},
   "source": [
    "## Brands with no of reviews"
   ]
  },
  {
   "cell_type": "markdown",
   "metadata": {},
   "source": [
    "This analysis can be useful for summarizing review data by top Brands, providing valuable insights that can inform business strategies, marketing efforts, and product development decisions.\n",
    "To visualise, bar plot can be used as it is more easy to read for diaplying this specific data."
   ]
  },
  {
   "cell_type": "code",
   "execution_count": null,
   "metadata": {},
   "outputs": [],
   "source": [
    "brand = products_json.groupby('brand')[['total_number_reviews']].sum().reset_index()"
   ]
  },
  {
   "cell_type": "code",
   "execution_count": null,
   "metadata": {},
   "outputs": [],
   "source": [
    "display(brand.head())"
   ]
  },
  {
   "cell_type": "code",
   "execution_count": null,
   "metadata": {},
   "outputs": [],
   "source": [
    "sorted_brand = brand.sort_values(by = 'total_number_reviews', ascending = False)"
   ]
  },
  {
   "cell_type": "code",
   "execution_count": null,
   "metadata": {},
   "outputs": [],
   "source": [
    "sorted_brand = sorted_brand.head()"
   ]
  },
  {
   "cell_type": "code",
   "execution_count": null,
   "metadata": {
    "scrolled": true
   },
   "outputs": [],
   "source": [
    "figure = plt.figure(figsize = (30,10))\n",
    "plt.bar(sorted_brand['brand'],sorted_brand['total_number_reviews'], color = 'pink', width = 0.5)\n",
    "plt.xlabel(\"Brands\")\n",
    "plt.ylabel(\"Total Number of reviews\")\n",
    "plt.title(\"Brands with highest number of reviews\")\n",
    "plt.show()"
   ]
  },
  {
   "cell_type": "code",
   "execution_count": null,
   "metadata": {},
   "outputs": [],
   "source": []
  },
  {
   "cell_type": "code",
   "execution_count": null,
   "metadata": {},
   "outputs": [],
   "source": []
  },
  {
   "cell_type": "code",
   "execution_count": null,
   "metadata": {},
   "outputs": [],
   "source": []
  }
 ],
 "metadata": {
  "kernelspec": {
   "display_name": "Python 3 (ipykernel)",
   "language": "python",
   "name": "python3"
  },
  "language_info": {
   "codemirror_mode": {
    "name": "ipython",
    "version": 3
   },
   "file_extension": ".py",
   "mimetype": "text/x-python",
   "name": "python",
   "nbconvert_exporter": "python",
   "pygments_lexer": "ipython3",
   "version": "3.12.4"
  }
 },
 "nbformat": 4,
 "nbformat_minor": 4
}
